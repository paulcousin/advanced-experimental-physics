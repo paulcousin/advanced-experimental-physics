{
 "cells": [
  {
   "cell_type": "code",
   "execution_count": null,
   "id": "4da8b6c7",
   "metadata": {},
   "outputs": [],
   "source": [
    "from abipy.abilab import abiopen"
   ]
  },
  {
   "cell_type": "code",
   "execution_count": null,
   "id": "07fef460",
   "metadata": {},
   "outputs": [],
   "source": [
    "with abiopen(\"./outdata/3_anaddb/anaddb_PHBST.nc\") as ncfile:\n",
    "    phbands = ncfile.phbands\n",
    "with abiopen(\"./outdata/3_anaddb/anaddb_PHDOS.nc\") as ncfile:\n",
    "    phdos = ncfile.phdos"
   ]
  },
  {
   "cell_type": "code",
   "execution_count": null,
   "id": "98ef7b4f",
   "metadata": {},
   "outputs": [],
   "source": [
    "fig = phbands.plot_with_phdos(phdos)\n",
    "fig.savefig(\"figures/phonons.pdf\", dpi=300)"
   ]
  },
  {
   "cell_type": "code",
   "execution_count": null,
   "id": "1bc4cea2",
   "metadata": {},
   "outputs": [],
   "source": []
  }
 ],
 "metadata": {
  "kernelspec": {
   "display_name": "cf.abipy",
   "language": "python",
   "name": "python3"
  },
  "language_info": {
   "codemirror_mode": {
    "name": "ipython",
    "version": 3
   },
   "file_extension": ".py",
   "mimetype": "text/x-python",
   "name": "python",
   "nbconvert_exporter": "python",
   "pygments_lexer": "ipython3",
   "version": "3.10.13"
  }
 },
 "nbformat": 4,
 "nbformat_minor": 5
}
