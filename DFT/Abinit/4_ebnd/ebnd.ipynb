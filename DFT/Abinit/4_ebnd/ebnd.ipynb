{
 "cells": [
  {
   "cell_type": "code",
   "execution_count": null,
   "id": "f01bf7bd",
   "metadata": {},
   "outputs": [],
   "source": [
    "from abipy.abilab import abiopen"
   ]
  },
  {
   "cell_type": "code",
   "execution_count": null,
   "id": "8c4c0d5e",
   "metadata": {},
   "outputs": [],
   "source": [
    "filename = \"./outdata/ebnd_DS2_GSR.nc\"\n",
    "with abiopen(filename) as ncfile:\n",
    "    ebands = ncfile.ebands"
   ]
  },
  {
   "cell_type": "code",
   "execution_count": null,
   "id": "b8c409be",
   "metadata": {},
   "outputs": [],
   "source": [
    "fig = ebands.plot(with_gaps=False, title=\"Si DFT PBE\", ylims=(-15, 10))"
   ]
  },
  {
   "cell_type": "code",
   "execution_count": null,
   "id": "f94cfca2",
   "metadata": {},
   "outputs": [],
   "source": [
    "fig.savefig(\"figures/ebnd.pdf\")"
   ]
  },
  {
   "cell_type": "code",
   "execution_count": null,
   "id": "c1a36db5",
   "metadata": {},
   "outputs": [],
   "source": []
  }
 ],
 "metadata": {
  "kernelspec": {
   "display_name": "cf.abipy",
   "language": "python",
   "name": "python3"
  },
  "language_info": {
   "codemirror_mode": {
    "name": "ipython",
    "version": 3
   },
   "file_extension": ".py",
   "mimetype": "text/x-python",
   "name": "python",
   "nbconvert_exporter": "python",
   "pygments_lexer": "ipython3",
   "version": "3.10.13"
  }
 },
 "nbformat": 4,
 "nbformat_minor": 5
}
